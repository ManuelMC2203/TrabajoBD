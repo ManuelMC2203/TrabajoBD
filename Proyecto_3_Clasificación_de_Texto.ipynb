{
  "nbformat": 4,
  "nbformat_minor": 0,
  "metadata": {
    "colab": {
      "provenance": [],
      "include_colab_link": true
    },
    "kernelspec": {
      "name": "python3",
      "display_name": "Python 3"
    },
    "language_info": {
      "name": "python"
    }
  },
  "cells": [
    {
      "cell_type": "markdown",
      "metadata": {
        "id": "view-in-github",
        "colab_type": "text"
      },
      "source": [
        "<a href=\"https://colab.research.google.com/github/ManuelMC2203/TrabajoBD/blob/main/Proyecto_3_Clasificaci%C3%B3n_de_Texto.ipynb\" target=\"_parent\"><img src=\"https://colab.research.google.com/assets/colab-badge.svg\" alt=\"Open In Colab\"/></a>"
      ]
    },
    {
      "cell_type": "markdown",
      "source": [
        "# Proyecto clasificación de datos de twitter\n",
        "\n",
        "https://www.kaggle.com/datasets/aadyasingh55/twitter-emotion-classification-dataset"
      ],
      "metadata": {
        "id": "IetgHJZl-A8V"
      }
    },
    {
      "cell_type": "code",
      "source": [
        "from google.colab import drive\n",
        "drive.mount('/content/drive')"
      ],
      "metadata": {
        "id": "lXrYoQYjQ9qR",
        "outputId": "0561c80d-11cd-4da2-ee14-8d693e6b504f",
        "colab": {
          "base_uri": "https://localhost:8080/"
        }
      },
      "execution_count": 6,
      "outputs": [
        {
          "output_type": "stream",
          "name": "stdout",
          "text": [
            "Drive already mounted at /content/drive; to attempt to forcibly remount, call drive.mount(\"/content/drive\", force_remount=True).\n"
          ]
        }
      ]
    },
    {
      "cell_type": "code",
      "execution_count": 7,
      "metadata": {
        "colab": {
          "base_uri": "https://localhost:8080/"
        },
        "id": "9aZ_OtyspaAP",
        "outputId": "f19df202-74b5-4ce2-b4a8-2013f5d46c2d"
      },
      "outputs": [
        {
          "output_type": "stream",
          "name": "stdout",
          "text": [
            "/usr/local/lib/python3.10/dist-packages/gdown/__main__.py:140: FutureWarning: Option `--id` was deprecated in version 4.3.1 and will be removed in 5.0. You don't need to pass it anymore to use a file ID.\n",
            "  warnings.warn(\n",
            "Downloading...\n",
            "From: https://drive.google.com/uc?id=1EguY8W_h17XnMeBd9AVlzPZj9Q6D_IFZ\n",
            "To: /content/train-00000-of-00001.parquet\n",
            "100% 26.9M/26.9M [00:00<00:00, 70.1MB/s]\n"
          ]
        }
      ],
      "source": [
        "# Download data with gdown\n",
        "!gdown --id 1EguY8W_h17XnMeBd9AVlzPZj9Q6D_IFZ"
      ]
    },
    {
      "cell_type": "code",
      "source": [
        "# Load parquet data using pandas\n",
        "import pandas as pd\n",
        "\n",
        "df = pd.read_parquet('train-00000-of-00001.parquet')"
      ],
      "metadata": {
        "id": "0gWtbsr6pyZz"
      },
      "execution_count": 8,
      "outputs": []
    },
    {
      "cell_type": "code",
      "source": [
        "# Explore data\n",
        "print(\"\\n Some data: \\n\", df.head())\n",
        "\n",
        "print(\"\\n Data shape: \\n\", df.shape)\n",
        "\n",
        "# count number of samples per class\n",
        "print(\"\\n Number of samples per class: \\n\", df['label'].value_counts())"
      ],
      "metadata": {
        "colab": {
          "base_uri": "https://localhost:8080/"
        },
        "id": "dYKMhuQUp9h6",
        "outputId": "b440e995-fae0-4b2d-d3bc-3b2d5ea80f83"
      },
      "execution_count": 9,
      "outputs": [
        {
          "output_type": "stream",
          "name": "stdout",
          "text": [
            "\n",
            " Some data: \n",
            "                                                 text  label\n",
            "0  i feel awful about it too because it s my job ...      0\n",
            "1                              im alone i feel awful      0\n",
            "2  ive probably mentioned this before but i reall...      1\n",
            "3           i was feeling a little low few days back      0\n",
            "4  i beleive that i am much more sensitive to oth...      2\n",
            "\n",
            " Data shape: \n",
            " (416809, 2)\n",
            "\n",
            " Number of samples per class: \n",
            " label\n",
            "1    141067\n",
            "0    121187\n",
            "3     57317\n",
            "4     47712\n",
            "2     34554\n",
            "5     14972\n",
            "Name: count, dtype: int64\n"
          ]
        }
      ]
    },
    {
      "cell_type": "code",
      "source": [
        "# Use NLTK to remove stop words\n",
        "\n",
        "import nltk\n",
        "from nltk.corpus import stopwords\n",
        "from nltk.tokenize import word_tokenize\n",
        "\n",
        "nltk.download('punkt')\n",
        "nltk.download('punkt_tab')\n",
        "nltk.download('stopwords')"
      ],
      "metadata": {
        "colab": {
          "base_uri": "https://localhost:8080/"
        },
        "id": "xMoYwP_wrlMr",
        "outputId": "b1048ab8-1f36-4f10-bbfa-2777437cb865"
      },
      "execution_count": 5,
      "outputs": [
        {
          "output_type": "stream",
          "name": "stderr",
          "text": [
            "[nltk_data] Downloading package punkt to /root/nltk_data...\n",
            "[nltk_data]   Unzipping tokenizers/punkt.zip.\n",
            "[nltk_data] Downloading package punkt_tab to /root/nltk_data...\n",
            "[nltk_data]   Unzipping tokenizers/punkt_tab.zip.\n",
            "[nltk_data] Downloading package stopwords to /root/nltk_data...\n",
            "[nltk_data]   Unzipping corpora/stopwords.zip.\n"
          ]
        },
        {
          "output_type": "execute_result",
          "data": {
            "text/plain": [
              "True"
            ]
          },
          "metadata": {},
          "execution_count": 5
        }
      ]
    },
    {
      "cell_type": "code",
      "source": [
        "# List stop words for english\n",
        "stop_words = set(stopwords.words('english'))\n",
        "print(stop_words)"
      ],
      "metadata": {
        "colab": {
          "base_uri": "https://localhost:8080/"
        },
        "id": "LAqgjwpNr5bv",
        "outputId": "e9b1ef2a-a499-42c2-ddf2-e690fbbb85c5"
      },
      "execution_count": 10,
      "outputs": [
        {
          "output_type": "stream",
          "name": "stdout",
          "text": [
            "{'and', 'those', 'do', 'by', 'off', 'after', 'wouldn', 'hadn', 'them', 'y', \"won't\", 'than', 'why', 'both', 'if', 'are', 'should', 'him', 'on', 'was', 'these', 'an', 'below', 'nor', \"shouldn't\", 'they', 'out', 'their', 'here', 'to', 'ma', 'her', \"should've\", 'in', 'couldn', 'but', 'under', 'down', 'then', 'such', 'as', 'with', 'over', 're', 'theirs', 'just', 'its', 'you', 'own', 'from', 'yours', 'too', 've', 'i', \"haven't\", 'no', \"isn't\", \"doesn't\", 'into', 'had', 'yourself', 'what', 'for', 'when', 'himself', 'more', \"don't\", 'who', 'won', 'before', \"that'll\", 'she', 'few', \"mightn't\", 'o', 'haven', 'shan', 'am', 'our', 'each', 'hers', 'itself', 'mustn', \"couldn't\", 'yourselves', 'has', \"it's\", 'because', 'can', 'this', 'there', 'during', 'did', 'isn', 'does', 'will', \"you'll\", 'same', 'ourselves', 'now', \"weren't\", 'my', 'wasn', 'between', \"you've\", 'having', 'not', 'shouldn', 'be', 'of', 'further', 'doesn', 'once', 'a', 'or', \"hadn't\", 'that', \"needn't\", 'been', 'herself', 'your', \"mustn't\", 'any', 'his', 'being', 'didn', 'again', 'until', \"wouldn't\", 't', \"she's\", 'aren', 'at', 'needn', 'he', \"shan't\", 'which', 's', \"wasn't\", 'most', 'll', 'have', 'were', 'only', \"you'd\", 'me', 'the', 'it', 'ain', 'doing', 'all', \"hasn't\", 'through', 'above', 'up', 'very', \"aren't\", 'how', 'mightn', 'ours', \"didn't\", 'is', 'hasn', 'themselves', \"you're\", 'so', 'some', 'other', 'd', 'weren', 'we', 'where', 'myself', 'm', 'while', 'about', 'don', 'against', 'whom'}\n"
          ]
        }
      ]
    },
    {
      "cell_type": "code",
      "source": [
        "# example code to show how stop words filtering works\n",
        "\n",
        "sentence = df['text'][3]\n",
        "\n",
        "word_tokens = word_tokenize(sentence)\n",
        "\n",
        "filtered_sentence = [w for w in word_tokens if not w.lower() in stop_words]\n",
        "\n",
        "print(word_tokens)\n",
        "print(filtered_sentence)"
      ],
      "metadata": {
        "colab": {
          "base_uri": "https://localhost:8080/"
        },
        "id": "ni2GgjtRs3UD",
        "outputId": "82c3386d-fae3-4773-beef-43fcc2710a00"
      },
      "execution_count": 11,
      "outputs": [
        {
          "output_type": "stream",
          "name": "stdout",
          "text": [
            "['i', 'was', 'feeling', 'a', 'little', 'low', 'few', 'days', 'back']\n",
            "['feeling', 'little', 'low', 'days', 'back']\n"
          ]
        }
      ]
    },
    {
      "cell_type": "code",
      "source": [
        "# function to filter stop words\n",
        "\n",
        "def filter_stop_words(text):\n",
        "  stop_words = set(stopwords.words('english'))\n",
        "\n",
        "  word_tokens = word_tokenize(text)\n",
        "\n",
        "  filtered_text = [w for w in word_tokens if not w.lower() in stop_words]\n",
        "\n",
        "  return ' '.join(filtered_text)"
      ],
      "metadata": {
        "id": "7oAXmsbmtSlR"
      },
      "execution_count": 12,
      "outputs": []
    },
    {
      "cell_type": "code",
      "source": [
        "# Test filter_stop_words function\n",
        "print(filter_stop_words(df['text'][3]))"
      ],
      "metadata": {
        "colab": {
          "base_uri": "https://localhost:8080/"
        },
        "id": "01CRU-rrtoPy",
        "outputId": "e2bc97ad-01e3-4ec3-e101-9597b0912b1f"
      },
      "execution_count": 13,
      "outputs": [
        {
          "output_type": "stream",
          "name": "stdout",
          "text": [
            "feeling little low days back\n"
          ]
        }
      ]
    },
    {
      "cell_type": "code",
      "source": [
        "# Add an additional column 'filtered_text' to df appying stop_words_function to\n",
        "# column 'text'\n",
        "df['filtered_text'] = df['text'].apply(filter_stop_words)"
      ],
      "metadata": {
        "id": "ctIGeVjBtzUx"
      },
      "execution_count": 14,
      "outputs": []
    },
    {
      "cell_type": "code",
      "source": [
        "# Verify the result\n",
        "df.head()"
      ],
      "metadata": {
        "colab": {
          "base_uri": "https://localhost:8080/",
          "height": 206
        },
        "id": "sSdFrXWDvcAA",
        "outputId": "f5276d41-0787-4c1c-efa2-0dd55d319501"
      },
      "execution_count": 15,
      "outputs": [
        {
          "output_type": "execute_result",
          "data": {
            "text/plain": [
              "                                                text  label  \\\n",
              "0  i feel awful about it too because it s my job ...      0   \n",
              "1                              im alone i feel awful      0   \n",
              "2  ive probably mentioned this before but i reall...      1   \n",
              "3           i was feeling a little low few days back      0   \n",
              "4  i beleive that i am much more sensitive to oth...      2   \n",
              "\n",
              "                                       filtered_text  \n",
              "0         feel awful job get position succeed happen  \n",
              "1                                im alone feel awful  \n",
              "2  ive probably mentioned really feel proud actua...  \n",
              "3                       feeling little low days back  \n",
              "4  beleive much sensitive peoples feelings tend c...  "
            ],
            "text/html": [
              "\n",
              "  <div id=\"df-71b4989d-8347-4095-b041-07d8e8ddd274\" class=\"colab-df-container\">\n",
              "    <div>\n",
              "<style scoped>\n",
              "    .dataframe tbody tr th:only-of-type {\n",
              "        vertical-align: middle;\n",
              "    }\n",
              "\n",
              "    .dataframe tbody tr th {\n",
              "        vertical-align: top;\n",
              "    }\n",
              "\n",
              "    .dataframe thead th {\n",
              "        text-align: right;\n",
              "    }\n",
              "</style>\n",
              "<table border=\"1\" class=\"dataframe\">\n",
              "  <thead>\n",
              "    <tr style=\"text-align: right;\">\n",
              "      <th></th>\n",
              "      <th>text</th>\n",
              "      <th>label</th>\n",
              "      <th>filtered_text</th>\n",
              "    </tr>\n",
              "  </thead>\n",
              "  <tbody>\n",
              "    <tr>\n",
              "      <th>0</th>\n",
              "      <td>i feel awful about it too because it s my job ...</td>\n",
              "      <td>0</td>\n",
              "      <td>feel awful job get position succeed happen</td>\n",
              "    </tr>\n",
              "    <tr>\n",
              "      <th>1</th>\n",
              "      <td>im alone i feel awful</td>\n",
              "      <td>0</td>\n",
              "      <td>im alone feel awful</td>\n",
              "    </tr>\n",
              "    <tr>\n",
              "      <th>2</th>\n",
              "      <td>ive probably mentioned this before but i reall...</td>\n",
              "      <td>1</td>\n",
              "      <td>ive probably mentioned really feel proud actua...</td>\n",
              "    </tr>\n",
              "    <tr>\n",
              "      <th>3</th>\n",
              "      <td>i was feeling a little low few days back</td>\n",
              "      <td>0</td>\n",
              "      <td>feeling little low days back</td>\n",
              "    </tr>\n",
              "    <tr>\n",
              "      <th>4</th>\n",
              "      <td>i beleive that i am much more sensitive to oth...</td>\n",
              "      <td>2</td>\n",
              "      <td>beleive much sensitive peoples feelings tend c...</td>\n",
              "    </tr>\n",
              "  </tbody>\n",
              "</table>\n",
              "</div>\n",
              "    <div class=\"colab-df-buttons\">\n",
              "\n",
              "  <div class=\"colab-df-container\">\n",
              "    <button class=\"colab-df-convert\" onclick=\"convertToInteractive('df-71b4989d-8347-4095-b041-07d8e8ddd274')\"\n",
              "            title=\"Convert this dataframe to an interactive table.\"\n",
              "            style=\"display:none;\">\n",
              "\n",
              "  <svg xmlns=\"http://www.w3.org/2000/svg\" height=\"24px\" viewBox=\"0 -960 960 960\">\n",
              "    <path d=\"M120-120v-720h720v720H120Zm60-500h600v-160H180v160Zm220 220h160v-160H400v160Zm0 220h160v-160H400v160ZM180-400h160v-160H180v160Zm440 0h160v-160H620v160ZM180-180h160v-160H180v160Zm440 0h160v-160H620v160Z\"/>\n",
              "  </svg>\n",
              "    </button>\n",
              "\n",
              "  <style>\n",
              "    .colab-df-container {\n",
              "      display:flex;\n",
              "      gap: 12px;\n",
              "    }\n",
              "\n",
              "    .colab-df-convert {\n",
              "      background-color: #E8F0FE;\n",
              "      border: none;\n",
              "      border-radius: 50%;\n",
              "      cursor: pointer;\n",
              "      display: none;\n",
              "      fill: #1967D2;\n",
              "      height: 32px;\n",
              "      padding: 0 0 0 0;\n",
              "      width: 32px;\n",
              "    }\n",
              "\n",
              "    .colab-df-convert:hover {\n",
              "      background-color: #E2EBFA;\n",
              "      box-shadow: 0px 1px 2px rgba(60, 64, 67, 0.3), 0px 1px 3px 1px rgba(60, 64, 67, 0.15);\n",
              "      fill: #174EA6;\n",
              "    }\n",
              "\n",
              "    .colab-df-buttons div {\n",
              "      margin-bottom: 4px;\n",
              "    }\n",
              "\n",
              "    [theme=dark] .colab-df-convert {\n",
              "      background-color: #3B4455;\n",
              "      fill: #D2E3FC;\n",
              "    }\n",
              "\n",
              "    [theme=dark] .colab-df-convert:hover {\n",
              "      background-color: #434B5C;\n",
              "      box-shadow: 0px 1px 3px 1px rgba(0, 0, 0, 0.15);\n",
              "      filter: drop-shadow(0px 1px 2px rgba(0, 0, 0, 0.3));\n",
              "      fill: #FFFFFF;\n",
              "    }\n",
              "  </style>\n",
              "\n",
              "    <script>\n",
              "      const buttonEl =\n",
              "        document.querySelector('#df-71b4989d-8347-4095-b041-07d8e8ddd274 button.colab-df-convert');\n",
              "      buttonEl.style.display =\n",
              "        google.colab.kernel.accessAllowed ? 'block' : 'none';\n",
              "\n",
              "      async function convertToInteractive(key) {\n",
              "        const element = document.querySelector('#df-71b4989d-8347-4095-b041-07d8e8ddd274');\n",
              "        const dataTable =\n",
              "          await google.colab.kernel.invokeFunction('convertToInteractive',\n",
              "                                                    [key], {});\n",
              "        if (!dataTable) return;\n",
              "\n",
              "        const docLinkHtml = 'Like what you see? Visit the ' +\n",
              "          '<a target=\"_blank\" href=https://colab.research.google.com/notebooks/data_table.ipynb>data table notebook</a>'\n",
              "          + ' to learn more about interactive tables.';\n",
              "        element.innerHTML = '';\n",
              "        dataTable['output_type'] = 'display_data';\n",
              "        await google.colab.output.renderOutput(dataTable, element);\n",
              "        const docLink = document.createElement('div');\n",
              "        docLink.innerHTML = docLinkHtml;\n",
              "        element.appendChild(docLink);\n",
              "      }\n",
              "    </script>\n",
              "  </div>\n",
              "\n",
              "\n",
              "<div id=\"df-c4f5434e-cf43-425f-a529-e7b78bd26850\">\n",
              "  <button class=\"colab-df-quickchart\" onclick=\"quickchart('df-c4f5434e-cf43-425f-a529-e7b78bd26850')\"\n",
              "            title=\"Suggest charts\"\n",
              "            style=\"display:none;\">\n",
              "\n",
              "<svg xmlns=\"http://www.w3.org/2000/svg\" height=\"24px\"viewBox=\"0 0 24 24\"\n",
              "     width=\"24px\">\n",
              "    <g>\n",
              "        <path d=\"M19 3H5c-1.1 0-2 .9-2 2v14c0 1.1.9 2 2 2h14c1.1 0 2-.9 2-2V5c0-1.1-.9-2-2-2zM9 17H7v-7h2v7zm4 0h-2V7h2v10zm4 0h-2v-4h2v4z\"/>\n",
              "    </g>\n",
              "</svg>\n",
              "  </button>\n",
              "\n",
              "<style>\n",
              "  .colab-df-quickchart {\n",
              "      --bg-color: #E8F0FE;\n",
              "      --fill-color: #1967D2;\n",
              "      --hover-bg-color: #E2EBFA;\n",
              "      --hover-fill-color: #174EA6;\n",
              "      --disabled-fill-color: #AAA;\n",
              "      --disabled-bg-color: #DDD;\n",
              "  }\n",
              "\n",
              "  [theme=dark] .colab-df-quickchart {\n",
              "      --bg-color: #3B4455;\n",
              "      --fill-color: #D2E3FC;\n",
              "      --hover-bg-color: #434B5C;\n",
              "      --hover-fill-color: #FFFFFF;\n",
              "      --disabled-bg-color: #3B4455;\n",
              "      --disabled-fill-color: #666;\n",
              "  }\n",
              "\n",
              "  .colab-df-quickchart {\n",
              "    background-color: var(--bg-color);\n",
              "    border: none;\n",
              "    border-radius: 50%;\n",
              "    cursor: pointer;\n",
              "    display: none;\n",
              "    fill: var(--fill-color);\n",
              "    height: 32px;\n",
              "    padding: 0;\n",
              "    width: 32px;\n",
              "  }\n",
              "\n",
              "  .colab-df-quickchart:hover {\n",
              "    background-color: var(--hover-bg-color);\n",
              "    box-shadow: 0 1px 2px rgba(60, 64, 67, 0.3), 0 1px 3px 1px rgba(60, 64, 67, 0.15);\n",
              "    fill: var(--button-hover-fill-color);\n",
              "  }\n",
              "\n",
              "  .colab-df-quickchart-complete:disabled,\n",
              "  .colab-df-quickchart-complete:disabled:hover {\n",
              "    background-color: var(--disabled-bg-color);\n",
              "    fill: var(--disabled-fill-color);\n",
              "    box-shadow: none;\n",
              "  }\n",
              "\n",
              "  .colab-df-spinner {\n",
              "    border: 2px solid var(--fill-color);\n",
              "    border-color: transparent;\n",
              "    border-bottom-color: var(--fill-color);\n",
              "    animation:\n",
              "      spin 1s steps(1) infinite;\n",
              "  }\n",
              "\n",
              "  @keyframes spin {\n",
              "    0% {\n",
              "      border-color: transparent;\n",
              "      border-bottom-color: var(--fill-color);\n",
              "      border-left-color: var(--fill-color);\n",
              "    }\n",
              "    20% {\n",
              "      border-color: transparent;\n",
              "      border-left-color: var(--fill-color);\n",
              "      border-top-color: var(--fill-color);\n",
              "    }\n",
              "    30% {\n",
              "      border-color: transparent;\n",
              "      border-left-color: var(--fill-color);\n",
              "      border-top-color: var(--fill-color);\n",
              "      border-right-color: var(--fill-color);\n",
              "    }\n",
              "    40% {\n",
              "      border-color: transparent;\n",
              "      border-right-color: var(--fill-color);\n",
              "      border-top-color: var(--fill-color);\n",
              "    }\n",
              "    60% {\n",
              "      border-color: transparent;\n",
              "      border-right-color: var(--fill-color);\n",
              "    }\n",
              "    80% {\n",
              "      border-color: transparent;\n",
              "      border-right-color: var(--fill-color);\n",
              "      border-bottom-color: var(--fill-color);\n",
              "    }\n",
              "    90% {\n",
              "      border-color: transparent;\n",
              "      border-bottom-color: var(--fill-color);\n",
              "    }\n",
              "  }\n",
              "</style>\n",
              "\n",
              "  <script>\n",
              "    async function quickchart(key) {\n",
              "      const quickchartButtonEl =\n",
              "        document.querySelector('#' + key + ' button');\n",
              "      quickchartButtonEl.disabled = true;  // To prevent multiple clicks.\n",
              "      quickchartButtonEl.classList.add('colab-df-spinner');\n",
              "      try {\n",
              "        const charts = await google.colab.kernel.invokeFunction(\n",
              "            'suggestCharts', [key], {});\n",
              "      } catch (error) {\n",
              "        console.error('Error during call to suggestCharts:', error);\n",
              "      }\n",
              "      quickchartButtonEl.classList.remove('colab-df-spinner');\n",
              "      quickchartButtonEl.classList.add('colab-df-quickchart-complete');\n",
              "    }\n",
              "    (() => {\n",
              "      let quickchartButtonEl =\n",
              "        document.querySelector('#df-c4f5434e-cf43-425f-a529-e7b78bd26850 button');\n",
              "      quickchartButtonEl.style.display =\n",
              "        google.colab.kernel.accessAllowed ? 'block' : 'none';\n",
              "    })();\n",
              "  </script>\n",
              "</div>\n",
              "\n",
              "    </div>\n",
              "  </div>\n"
            ],
            "application/vnd.google.colaboratory.intrinsic+json": {
              "type": "dataframe",
              "variable_name": "df"
            }
          },
          "metadata": {},
          "execution_count": 15
        }
      ]
    },
    {
      "cell_type": "markdown",
      "source": [
        "\n",
        "**Observaciones**\n",
        "\n",
        "* En este momento los datos son textos filtrados de largo variable y una etiqueta de clase. Para poder proceder a la clasificación vamos a representar los textos con un vector numérico.\n",
        "* CountVectorizer de sklearn tiene opciones de lower case y remoción de stop words."
      ],
      "metadata": {
        "id": "ajQQBhQWvvRh"
      }
    },
    {
      "cell_type": "code",
      "source": [
        "from sklearn.feature_extraction.text import CountVectorizer\n",
        "\n",
        "# Process filtered_text with CountVectorizer limiting to 20000 words\n",
        "vectorizer = CountVectorizer(max_features=1000)\n",
        "X = vectorizer.fit_transform(df['filtered_text'])"
      ],
      "metadata": {
        "id": "lo40oTOdwEpU"
      },
      "execution_count": 16,
      "outputs": []
    },
    {
      "cell_type": "code",
      "source": [
        "# Display X shape\n",
        "print(X.shape)"
      ],
      "metadata": {
        "colab": {
          "base_uri": "https://localhost:8080/"
        },
        "id": "375m14M1wyRE",
        "outputId": "f37d988a-e452-45b9-a4f6-9e0871b51aec"
      },
      "execution_count": 17,
      "outputs": [
        {
          "output_type": "stream",
          "name": "stdout",
          "text": [
            "(416809, 1000)\n"
          ]
        }
      ]
    },
    {
      "cell_type": "code",
      "source": [
        "# train and test split\n",
        "from sklearn.model_selection import train_test_split\n",
        "\n",
        "X_train, X_test, y_train, y_test = train_test_split(X, df['label'], test_size=0.5, random_state=42, stratify=df['label'])"
      ],
      "metadata": {
        "id": "dTkxjzzJxa7T"
      },
      "execution_count": 18,
      "outputs": []
    },
    {
      "cell_type": "markdown",
      "source": [
        "# Proyecto\n",
        "\n",
        "El proyecto tiene por objetivo desarrollar un clasificador que permita clasificar los textos maximizando el accuracy.\n",
        "\n",
        "Es importante que observen que en el código de referencia se limitaron las cantidad de palabras a 5000 cuando el total de palabras es significativamente mayor (puede probar CountVectorizer sin limitar el número de palabras para obtener el número total).\n",
        "\n",
        "## Opción 1:\n",
        "Desarrollar la solución mediante técnicas clásicas de clasificación.\n",
        "\n",
        "## Opición 2:\n",
        "Implementar la solución usando redes neuronales."
      ],
      "metadata": {
        "id": "7GVbz_ET2WiH"
      }
    }
  ]
}